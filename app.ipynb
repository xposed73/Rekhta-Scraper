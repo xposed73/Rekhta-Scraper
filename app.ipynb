{
 "cells": [
  {
   "cell_type": "code",
   "execution_count": 11,
   "metadata": {},
   "outputs": [
    {
     "name": "stdout",
     "output_type": "stream",
     "text": [
      "Data saved successfully to output.json\n"
     ]
    }
   ],
   "source": [
    "import os\n",
    "import json\n",
    "\n",
    "# Path to the folder containing the text files\n",
    "folder_path = 'dataset/ahmad-faraz/ur'\n",
    "\n",
    "# List to store category dictionaries\n",
    "categories = []\n",
    "\n",
    "# Iterate over each file in the folder\n",
    "for file_name in os.listdir(folder_path):\n",
    "    file_path = os.path.join(folder_path, file_name)\n",
    "    # Check if the path is a file (not a directory)\n",
    "    if os.path.isfile(file_path):\n",
    "        # Read the content of the file\n",
    "        with open(file_path, 'r', encoding='utf-8') as file:\n",
    "            lines = file.readlines()\n",
    "            # Extract category name from the first line\n",
    "            category_name = lines[1].strip()\n",
    "            # Remove category name from the lines\n",
    "            content_lines = lines[1:]\n",
    "            poetry_lines = []\n",
    "            # Group content lines into pairs (line1, line2)\n",
    "            for i in range(0, len(content_lines), 2):\n",
    "                line1 = content_lines[i].strip()\n",
    "                line2 = content_lines[i + 1].strip() if i + 1 < len(content_lines) else ''\n",
    "                poetry_lines.append({\"line1\": line1, \"line2\": line2})\n",
    "            # Create category dictionary\n",
    "            category_dict = {\n",
    "                \"category_name\": category_name,\n",
    "                \"poetry_lines\": poetry_lines\n",
    "            }\n",
    "            categories.append(category_dict)\n",
    "\n",
    "# Path to the output JSON file\n",
    "output_file = 'output.json'\n",
    "\n",
    "# Write categories to the output JSON file\n",
    "with open(output_file, 'w', encoding='utf-8') as json_file:\n",
    "    json.dump(categories, json_file, ensure_ascii=False, indent=4)\n",
    "\n",
    "print(\"Data saved successfully to\", output_file)\n"
   ]
  }
 ],
 "metadata": {
  "kernelspec": {
   "display_name": "Python 3",
   "language": "python",
   "name": "python3"
  },
  "language_info": {
   "codemirror_mode": {
    "name": "ipython",
    "version": 3
   },
   "file_extension": ".py",
   "mimetype": "text/x-python",
   "name": "python",
   "nbconvert_exporter": "python",
   "pygments_lexer": "ipython3",
   "version": "3.10.12"
  }
 },
 "nbformat": 4,
 "nbformat_minor": 2
}
